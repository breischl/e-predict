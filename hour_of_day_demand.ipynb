{
 "cells": [
  {
   "cell_type": "markdown",
   "metadata": {},
   "source": [
    "Looking at power usage by hour of the day, just for grins/curiosity. This doesn't affect the overall project at this point. "
   ]
  },
  {
   "cell_type": "code",
   "execution_count": null,
   "metadata": {},
   "outputs": [],
   "source": [
    "import os\n",
    "import matplotlib.pyplot as plt\n",
    "import pandas as pd\n",
    "import numpy as np\n",
    "\n",
    "\n",
    "HISTORICAL_DATA_DIR = os.path.abspath(\"./historical_data\")\n",
    "ELECTRIC_DATA_DIR = os.path.join(HISTORICAL_DATA_DIR, \"electric_data\")\n",
    "psco_demand_data_file = os.path.join(ELECTRIC_DATA_DIR, \"psco-hourly-dataframe.json\")\n",
    "\n",
    "with open(psco_demand_data_file, \"r\", encoding=\"utf-8\") as f:\n",
    "    df = pd.read_json(f)\n",
    "\n",
    "df.index.rename(\"date\", inplace=True)\n",
    "df[\"tmp_date\"] = df.index\n",
    "df[\"utc_hour_of_day\"] = df[\"tmp_date\"].dt.hour\n",
    "df.drop(\"tmp_date\", axis=1, inplace=True)\n",
    "\n",
    "grouped = df.groupby([\"utc_hour_of_day\"], sort=True).agg(\n",
    "    sum=(\"demand\", np.sum),\n",
    "    median=(\"demand\", np.median),\n",
    "    mean=(\"demand\", np.mean),\n",
    "    min=(\"demand\", np.min),\n",
    "    max=(\"demand\", np.max),\n",
    ")\n",
    "grouped\n",
    "\n"
   ]
  },
  {
   "cell_type": "code",
   "execution_count": null,
   "metadata": {},
   "outputs": [],
   "source": [
    "df.plot.box(by=\"utc_hour_of_day\")"
   ]
  }
 ],
 "metadata": {
  "kernelspec": {
   "display_name": "Python 3.10.7 ('.venv': pipenv)",
   "language": "python",
   "name": "python3"
  },
  "language_info": {
   "codemirror_mode": {
    "name": "ipython",
    "version": 3
   },
   "file_extension": ".py",
   "mimetype": "text/x-python",
   "name": "python",
   "nbconvert_exporter": "python",
   "pygments_lexer": "ipython3",
   "version": "3.10.7 (tags/v3.10.7:6cc6b13, Sep  5 2022, 14:08:36) [MSC v.1933 64 bit (AMD64)]"
  },
  "orig_nbformat": 4,
  "vscode": {
   "interpreter": {
    "hash": "44b48c3bcf9419f2eb3f4f9835c1f06c11c1fdf53404b3684d945f8ae454e88b"
   }
  }
 },
 "nbformat": 4,
 "nbformat_minor": 2
}
