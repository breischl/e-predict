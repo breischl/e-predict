{
 "cells": [
  {
   "cell_type": "markdown",
   "metadata": {},
   "source": [
    "Define the weather station IDs we're interested in, that are near PSCO territory (which is discontinuous, unfortunately)"
   ]
  },
  {
   "cell_type": "code",
   "execution_count": 1,
   "metadata": {},
   "outputs": [],
   "source": [
    "psco_station_ids = [\n",
    "    \"USW00023066\"  # Grand Junction Walker Field\n",
    "    \"USC00053553\",  # Greeley UNC\n",
    "    \"USC00053005\",  # Ft Collins\n",
    "    \"USC00050848\",  # Boulder\n",
    "    \"USC00055984\",  # Northglenn\n",
    "    \"USC00058995\",  # Wheat Ridge\n",
    "    \"USW00023061\"  # Alamosa\n",
    "]"
   ]
  },
  {
   "cell_type": "markdown",
   "metadata": {},
   "source": [
    "Download daily data for each station"
   ]
  },
  {
   "cell_type": "code",
   "execution_count": 2,
   "metadata": {},
   "outputs": [],
   "source": [
    "import requests\n",
    "\n",
    "BASE_URL = \"https://www1.ncdc.noaa.gov/pub/data/ghcn/daily/all\"\n",
    "\n",
    "for station_id in psco_station_ids:\n",
    "    dly_name = f\"{station_id}.dly\"\n",
    "    station_url = f\"{BASE_URL}/{dly_name}\"\n",
    "    print(f\"Downloading {station_url}...\")\n",
    "    resp = requests.get(url=station_url, timeout=120)\n",
    "    with open(f\"ghcnd/station_data/{dly_name}\", \"w\", encoding=\"utf-8\") as f:\n",
    "        f.write(resp.text)"
   ]
  },
  {
   "cell_type": "markdown",
   "metadata": {},
   "source": [
    "Parse station observations data"
   ]
  },
  {
   "cell_type": "code",
   "execution_count": 4,
   "metadata": {},
   "outputs": [
    {
     "name": "stdout",
     "output_type": "stream",
     "text": [
      "USC00050848: 61\n"
     ]
    }
   ],
   "source": [
    "import os\n",
    "from ghcnd.station_observations import read_from_dly_file\n",
    "\n",
    "station_data_dir = \"./ghcnd/station_data\"\n",
    "station_data = [read_from_dly_file(os.path.join(station_data_dir, f)) for f in os.listdir(station_data_dir)]\n",
    "print(f\"{station_data[0].station_id}: {station_data[0].observations[0].temp_max}\")"
   ]
  }
 ],
 "metadata": {
  "kernelspec": {
   "display_name": "Python 3.10.7 ('.venv': pipenv)",
   "language": "python",
   "name": "python3"
  },
  "language_info": {
   "codemirror_mode": {
    "name": "ipython",
    "version": 3
   },
   "file_extension": ".py",
   "mimetype": "text/x-python",
   "name": "python",
   "nbconvert_exporter": "python",
   "pygments_lexer": "ipython3",
   "version": "3.10.7"
  },
  "orig_nbformat": 4,
  "vscode": {
   "interpreter": {
    "hash": "44b48c3bcf9419f2eb3f4f9835c1f06c11c1fdf53404b3684d945f8ae454e88b"
   }
  }
 },
 "nbformat": 4,
 "nbformat_minor": 2
}
