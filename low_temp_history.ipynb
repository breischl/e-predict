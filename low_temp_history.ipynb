{
 "cells": [
  {
   "cell_type": "markdown",
   "metadata": {},
   "source": [
    "A small side project (from this already-side-project!) to look at the lowest recorded temperatures in the area. \n",
    "I am looking at installing a high-efficiency heat pump that only works when temperatures are above -13F (-25C). \n",
    "When temperatures are lower than that, the heat pump stops working and the house would have no heat at the worst possible time. \n",
    "So the obvious question is: How often does it get below (or near) that temperature?\n",
    "\n",
    "I suspect this information is available online somewhere, but I've got all this tooling right here, so what the heck."
   ]
  },
  {
   "cell_type": "code",
   "execution_count": null,
   "metadata": {},
   "outputs": [],
   "source": [
    "import download_historical_data as dl\n",
    "import os \n",
    "import matplotlib.pyplot as plt\n",
    "import pandas as pd\n",
    "\n",
    "plt.style.use(\"default\")  # alternative \"ggplot\"\n",
    "\n",
    "HISTORICAL_DATA_DIR = os.path.abspath(\"./historical_data\")\n",
    "WEATHER_DATA_DIR = os.path.join(HISTORICAL_DATA_DIR, \"weather_station_data\")\n",
    "ANALYSIS_DATA_DIR = os.path.abspath(\"./analysis_data/\")\n",
    "LOW_TEMP_DATA_DIR = os.path.join(ANALYSIS_DATA_DIR, \"low_temps\")\n",
    "\n",
    "for dir in [HISTORICAL_DATA_DIR, WEATHER_DATA_DIR, LOW_TEMP_DATA_DIR, ANALYSIS_DATA_DIR]:\n",
    "    if not os.path.exists(dir):\n",
    "        os.makedirs(dir)\n",
    "\n",
    "\n",
    "WEATHER_STATION_IDS = [\n",
    "    \"USW00023066\",  # Grand Junction Walker Field\n",
    "    \"USC00053553\",  # Greeley UNC\n",
    "    \"USC00053005\",  # Ft Collins\n",
    "    \"USC00050848\",  # Boulder\n",
    "    \"USC00055984\",  # Northglenn\n",
    "    \"USC00058995\",  # Wheat Ridge\n",
    "    \"USW00023061\"  # Alamosa\n",
    "]"
   ]
  },
  {
   "cell_type": "code",
   "execution_count": null,
   "metadata": {},
   "outputs": [],
   "source": [
    "# Uncomment to force re-download of source data\n",
    "# Otherwise can also run the download script manually via: python download_historical_data.py\n",
    "# Data files are saved locally so you only need to re-download to get new/different data\n",
    "\n",
    "#dl.download_eia_historical_data(ELECTRIC_DATA_DIR, eia_respondent=\"PSCO\")\n",
    "#dl.download_ghcnd_historical_data(WEATHER_DATA_DIR, WEATHER_STATION_IDS)"
   ]
  },
  {
   "cell_type": "code",
   "execution_count": null,
   "metadata": {},
   "outputs": [],
   "source": [
    "## Read in the weather DataFrame, but only for Denver-area weather stations\n",
    "files = [\n",
    "    os.path.join(WEATHER_DATA_DIR, \"USC00053005-dataframe.json\"),\n",
    "    os.path.join(WEATHER_DATA_DIR, \"USC00050848-dataframe.json\"),\n",
    "    os.path.join(WEATHER_DATA_DIR, \"USC00055984-dataframe.json\"),\n",
    "    os.path.join(WEATHER_DATA_DIR, \"USC00058995-dataframe.json\"),\n",
    "]\n",
    "temp_df = dl.read_weather_data(files, earliest_date=None)\n",
    "temp_df.head()"
   ]
  },
  {
   "cell_type": "code",
   "execution_count": null,
   "metadata": {},
   "outputs": [],
   "source": [
    "for c in temp_df.columns:\n",
    "    if c.endswith(\"_tmax\"):\n",
    "        temp_df.drop(c, axis=\"columns\", inplace=True)\n",
    "\n",
    "renames = {\n",
    "    \"USC00053005_tmin\": \"FtCollins\",\n",
    "    \"USC00050848_tmin\": \"Boulder\",\n",
    "    \"USC00055984_tmin\": \"Northglenn\",\n",
    "    \"USC00058995_tmin\": \"WheatRidge\"\n",
    "}\n",
    "temp_df.rename(columns=renames, inplace=True)\n",
    "temp_df.head()"
   ]
  },
  {
   "cell_type": "code",
   "execution_count": null,
   "metadata": {},
   "outputs": [],
   "source": [
    "stacked = temp_df.stack()\n",
    "# stacked.columns.set_names(names=\"min_temp\", inplace=True)\n",
    "stacked.index.set_names(names=\"station\", level=1, inplace=True)\n",
    "stacked = pd.DataFrame(stacked)\n",
    "stacked.rename(columns={0:\"celsius\"}, inplace=True)\n",
    "stacked[\"fahrenheit\"] = (stacked[\"celsius\"] * 1.8) + 32\n",
    "stacked.head()"
   ]
  },
  {
   "cell_type": "code",
   "execution_count": null,
   "metadata": {},
   "outputs": [],
   "source": [
    "# Sort by date, latest->earliest\n",
    "stacked.sort_index(axis=0, level=0, ascending=False, inplace=True)\n",
    "stacked.head(10)"
   ]
  },
  {
   "cell_type": "code",
   "execution_count": null,
   "metadata": {},
   "outputs": [],
   "source": [
    "sorted = stacked.sort_values(by=\"celsius\", ascending=False, kind=\"stable\")\n",
    "sorted.head()"
   ]
  },
  {
   "cell_type": "markdown",
   "metadata": {},
   "source": [
    "How many days get down to our cutoff temp of -25C?"
   ]
  },
  {
   "cell_type": "code",
   "execution_count": null,
   "metadata": {},
   "outputs": [],
   "source": [
    "very_low_days = sorted[sorted[\"celsius\"] <= -25]\n",
    "len(very_low_days)"
   ]
  },
  {
   "cell_type": "code",
   "execution_count": null,
   "metadata": {},
   "outputs": [],
   "source": [
    "very_low_days.head(25)\n"
   ]
  },
  {
   "cell_type": "code",
   "execution_count": null,
   "metadata": {},
   "outputs": [],
   "source": [
    "## How many days get _close_ to our cutoff?\n",
    "low_days = sorted[sorted[\"celsius\"] < -20]\n",
    "len(low_days)"
   ]
  },
  {
   "cell_type": "code",
   "execution_count": null,
   "metadata": {},
   "outputs": [],
   "source": [
    "low_days.head(20)"
   ]
  },
  {
   "cell_type": "code",
   "execution_count": null,
   "metadata": {},
   "outputs": [],
   "source": [
    "low_days.hist()"
   ]
  },
  {
   "cell_type": "code",
   "execution_count": null,
   "metadata": {},
   "outputs": [],
   "source": [
    "## Record-breaking coldest days\n",
    "rev_sorted = stacked.sort_values(by=\"celsius\", ascending=True, kind=\"stable\")\n",
    "rev_sorted.head(25)"
   ]
  },
  {
   "cell_type": "code",
   "execution_count": null,
   "metadata": {},
   "outputs": [],
   "source": []
  }
 ],
 "metadata": {
  "kernelspec": {
   "display_name": ".venv",
   "language": "python",
   "name": "python3"
  },
  "language_info": {
   "codemirror_mode": {
    "name": "ipython",
    "version": 3
   },
   "file_extension": ".py",
   "mimetype": "text/x-python",
   "name": "python",
   "nbconvert_exporter": "python",
   "pygments_lexer": "ipython3",
   "version": "3.10.7"
  },
  "orig_nbformat": 4,
  "vscode": {
   "interpreter": {
    "hash": "44b48c3bcf9419f2eb3f4f9835c1f06c11c1fdf53404b3684d945f8ae454e88b"
   }
  }
 },
 "nbformat": 4,
 "nbformat_minor": 2
}
