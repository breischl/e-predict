{
 "cells": [
  {
   "cell_type": "code",
   "execution_count": null,
   "metadata": {},
   "outputs": [],
   "source": [
    "import os\n",
    "import matplotlib.pyplot as plt\n",
    "import pandas as pd\n",
    "import numpy as np\n",
    "import math\n",
    "\n",
    "ELECTRIC_DIR = os.path.join(os.path.abspath(\"./historical_data\"), \"electric_data\")\n",
    "DATA_FILE = os.path.join(ELECTRIC_DIR, \"psco.json\")\n",
    "\n",
    "df: pd.DataFrame = pd.read_json(DATA_FILE, typ=\"frame\", orient=\"records\", convert_dates=[\"dates\"])\n",
    "df.set_index(\"date\", inplace=True)"
   ]
  },
  {
   "cell_type": "code",
   "execution_count": null,
   "metadata": {},
   "outputs": [],
   "source": [
    "## See what would get cut off using various inter-quartile range metrics\n",
    "# calculate inter-quartile range\n",
    "iqr = (df.quantile(0.75, numeric_only=False) - df.quantile(0.25, numeric_only=False))['demand']\n",
    "\n",
    "median = df.median(numeric_only=True)['demand']\n",
    "\n",
    "# Find values within `iqr_mult` multiples of the median\n",
    "iqr_mult = 3\n",
    "min_demand = median - (iqr * iqr_mult)\n",
    "max_demand = median + (iqr * iqr_mult)\n",
    "print(f\"inter-quartile range: {iqr}, median: {median}, valid data range: {min_demand} - {max_demand}\")\n",
    "df['abs_diff'] = abs(df['demand'] - median)\n",
    "df['iqr_mult'] = df['abs_diff'] / iqr"
   ]
  },
  {
   "cell_type": "code",
   "execution_count": null,
   "metadata": {},
   "outputs": [],
   "source": [
    "# Look at the biggest outliers\n",
    "df.sort_values(\"abs_diff\", ascending=False).head(20)"
   ]
  },
  {
   "cell_type": "code",
   "execution_count": null,
   "metadata": {},
   "outputs": [],
   "source": [
    "## Kind of a weird metric here, but it seems to work\n",
    "good_criterion = df['demand'].map(lambda d: d > 1000 and d < 11000)\n",
    "bad_criterion = ~good_criterion\n",
    "\n",
    "# Print invalid rows\n",
    "df[bad_criterion]"
   ]
  },
  {
   "cell_type": "code",
   "execution_count": null,
   "metadata": {},
   "outputs": [],
   "source": [
    "# Print valid rows\n",
    "df[good_criterion]\n"
   ]
  },
  {
   "cell_type": "code",
   "execution_count": null,
   "metadata": {},
   "outputs": [],
   "source": [
    "# replace outliers with nan\n",
    "df = df.where(good_criterion, np.nan)\n",
    "\n",
    "# spot check\n",
    "df.loc[\"2015-07-02 06:00:00\"]"
   ]
  },
  {
   "cell_type": "code",
   "execution_count": null,
   "metadata": {},
   "outputs": [],
   "source": [
    "# interpolate missing values\n",
    "df.interpolate(inplace=True)"
   ]
  },
  {
   "cell_type": "code",
   "execution_count": null,
   "metadata": {},
   "outputs": [],
   "source": [
    "# re-spot check\n",
    "df.loc[\"2015-07-02 06:00:00\"]\n"
   ]
  },
  {
   "cell_type": "code",
   "execution_count": null,
   "metadata": {},
   "outputs": [],
   "source": [
    "# spot check 2\n",
    "df.loc['2022-07-19']"
   ]
  },
  {
   "cell_type": "code",
   "execution_count": null,
   "metadata": {},
   "outputs": [],
   "source": [
    "tmp_grouped = df.groupby(lambda x: x.date, sort=False, as_index=True)\n",
    "grouped = tmp_grouped.agg(\n",
    "    daily_demand=(\"demand\", np.sum),\n",
    "    num_hours_reported=(\"demand\", np.count_nonzero)\n",
    ")\n",
    "\n",
    "grouped.reset_index(inplace=True)\n",
    "grouped[[\"index\"]] = grouped[[\"index\"]].astype(np.datetime64)\n",
    "grouped.set_index(\"index\", inplace=True)"
   ]
  },
  {
   "cell_type": "code",
   "execution_count": null,
   "metadata": {},
   "outputs": [],
   "source": [
    "# Drop days with less than 24 hours of data (usually first & last day of range)\n",
    "grouped = grouped[grouped.num_hours_reported == 24].drop(labels=\"num_hours_reported\", axis=1)"
   ]
  },
  {
   "cell_type": "code",
   "execution_count": null,
   "metadata": {},
   "outputs": [],
   "source": [
    "grouped_file_path = os.path.join(ELECTRIC_DIR, \"psco-daily-dataframe_test.json\")\n",
    "grouped.to_json(grouped_file_path)"
   ]
  }
 ],
 "metadata": {
  "kernelspec": {
   "display_name": ".venv",
   "language": "python",
   "name": "python3"
  },
  "language_info": {
   "codemirror_mode": {
    "name": "ipython",
    "version": 3
   },
   "file_extension": ".py",
   "mimetype": "text/x-python",
   "name": "python",
   "nbconvert_exporter": "python",
   "pygments_lexer": "ipython3",
   "version": "3.10.7 (tags/v3.10.7:6cc6b13, Sep  5 2022, 14:08:36) [MSC v.1933 64 bit (AMD64)]"
  },
  "orig_nbformat": 4,
  "vscode": {
   "interpreter": {
    "hash": "44b48c3bcf9419f2eb3f4f9835c1f06c11c1fdf53404b3684d945f8ae454e88b"
   }
  }
 },
 "nbformat": 4,
 "nbformat_minor": 2
}
